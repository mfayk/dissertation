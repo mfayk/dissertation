{
 "cells": [
  {
   "cell_type": "code",
   "execution_count": 1,
   "id": "4ee6fe61-6425-440e-8778-5545f1171b65",
   "metadata": {},
   "outputs": [],
   "source": [
    "import wandb\n",
    "import torch\n",
    "from pathlib import Path\n",
    "import json\n",
    "import numpy as np\n",
    "import sys\n",
    "import os\n",
    "import numpy as np\n",
    "from ipywidgets import widgets,interact,IntProgress\n",
    "import matplotlib.pyplot as plt\n",
    "from matplotlib.ticker import StrMethodFormatter\n",
    "from skimage import morphology\n",
    "from skimage.morphology import closing, square, reconstruction\n",
    "from skimage import filters\n",
    "from mpl_toolkits.mplot3d import Axes3D\n",
    "import os\n",
    "import glob\n",
    "import re\n",
    "import pickle\n",
    "from PIL import Image\n",
    "import pandas as pd\n",
    "#import cv2\n",
    "from tifffile import imsave, imread\n",
    "#from numba import jit\n",
    "import matplotlib.pyplot as plt\n",
    "import seaborn as sns\n",
    "import pandas as pd\n",
    "#import rawpy\n",
    "import imageio\n",
    "from struct import unpack\n",
    "import textwrap"
   ]
  },
  {
   "cell_type": "code",
   "execution_count": 2,
   "id": "161b0e49-36ce-443d-80c2-dc790455b587",
   "metadata": {},
   "outputs": [
    {
     "name": "stderr",
     "output_type": "stream",
     "text": [
      "Failed to detect the name of this notebook, you can set it manually with the WANDB_NOTEBOOK_NAME environment variable to enable code saving.\n",
      "\u001b[34m\u001b[1mwandb\u001b[0m: Using wandb-core as the SDK backend.  Please refer to https://wandb.me/wandb-core for more information.\n",
      "\u001b[34m\u001b[1mwandb\u001b[0m: Currently logged in as: \u001b[33mmfaykus\u001b[0m (\u001b[33mmfaykus-clemson-university\u001b[0m) to \u001b[32mhttps://api.wandb.ai\u001b[0m. Use \u001b[1m`wandb login --relogin`\u001b[0m to force relogin\n"
     ]
    },
    {
     "data": {
      "text/plain": [
       "True"
      ]
     },
     "execution_count": 2,
     "metadata": {},
     "output_type": "execute_result"
    }
   ],
   "source": [
    "wandb.login()"
   ]
  },
  {
   "cell_type": "code",
   "execution_count": 3,
   "id": "f234da17-7462-40d1-bd6d-52438131d8c1",
   "metadata": {},
   "outputs": [
    {
     "name": "stdout",
     "output_type": "stream",
     "text": [
      "   Unnamed: 0 Model Compressor  error_bound  epochs      miou      class  \\\n",
      "0           0  unet        sz3          1.0      10  0.248392  unlabeled   \n",
      "1           1  unet        sz3          1.0      10  0.248392       road   \n",
      "2           2  unet        sz3          1.0      10  0.248392   sidewalk   \n",
      "3           3  unet        sz3          1.0      10  0.248392   building   \n",
      "4           4  unet        sz3          1.0      10  0.248392       wall   \n",
      "\n",
      "        iou  run  model_num      LR  size  \n",
      "0  0.340015    0         18  0.0001     0  \n",
      "1  0.819422    0         18  0.0001     0  \n",
      "2  0.386003    0         18  0.0001     0  \n",
      "3  0.658852    0         18  0.0001     0  \n",
      "4  0.093988    0         18  0.0001     0  \n",
      "Selected features: ['Unnamed: 0', 'Model', 'Compressor', 'error_bound', 'epochs', 'class', 'iou', 'run', 'model_num']\n"
     ]
    }
   ],
   "source": [
    "# Load your CSV file\n",
    "df = pd.read_csv(\"/scratch/mfaykus/seg_val/resnet_train.csv\")\n",
    "\n",
    "# Display the first few rows to check the structure\n",
    "print(df.head())\n",
    "\n",
    "selected_features = [col for col in df.columns if col not in [\"miou\", \"LR\", \"size\"]]  # Exclude non-feature columns\n",
    "\n",
    "print(\"Selected features:\", selected_features)  # Debugging check\n"
   ]
  },
  {
   "cell_type": "code",
   "execution_count": 10,
   "id": "8d1b8bcf-7c8f-4d1e-b219-3242748d3eb8",
   "metadata": {
    "tags": []
   },
   "outputs": [],
   "source": [
    "sweep_config = {\n",
    "    \"method\": \"grid\",  # Options: \"random\", \"bayes\", \"grid\"\n",
    "    \"metric\": {\"name\": \"miou\", \"goal\": \"maximize\"},  # Adjust for \"mIoU\" if needed\n",
    "    \"parameters\": {\n",
    "        #\"feature\": {\"values\": df.columns.tolist()},  # Iterate over each column\n",
    "        \"LR\": {\"values\": [0.0001,0.0005,0.001,0.0025,0.00005]},\n",
    "        \"size\": {\"values\": [0,1,2,3,4,5]}\n",
    "    },\n",
    "}\n"
   ]
  },
  {
   "cell_type": "code",
   "execution_count": 13,
   "id": "8f3bb5ca-e2cd-4413-b7c6-6c7185fdbfa6",
   "metadata": {
    "tags": []
   },
   "outputs": [],
   "source": [
    "def validate(config=None):\n",
    "    with wandb.init(config=config):\n",
    "        config = wandb.config\n",
    "        #feature = config.feature\n",
    "\n",
    "        wandb.log({\n",
    "            \"LR\": config.LR,\n",
    "            \"size\": config.size,\n",
    "        })\n",
    "        \n",
    "        \n",
    "        # Create scatter plot for validation data\n",
    "        table = wandb.Table(dataframe=df)\n",
    "        \n",
    "        for feature in selected_features:\n",
    "            scatter = wandb.plot.scatter(\n",
    "                table, x=feature, y=\"miou\", title=f\"{feature} vs miou (Validation)\"\n",
    "            )\n",
    "            wandb.log({f\"scatter_{feature}_vs_miou\": scatter})\n"
   ]
  },
  {
   "cell_type": "code",
   "execution_count": null,
   "id": "79f36617-5a8e-4205-819e-9c7ada1d157f",
   "metadata": {
    "tags": []
   },
   "outputs": [
    {
     "name": "stdout",
     "output_type": "stream",
     "text": [
      "Create sweep with ID: ra86aqqf\n",
      "Sweep URL: https://wandb.ai/mfaykus-clemson-university/validation_analysis/sweeps/ra86aqqf\n"
     ]
    },
    {
     "name": "stderr",
     "output_type": "stream",
     "text": [
      "\u001b[34m\u001b[1mwandb\u001b[0m: Agent Starting Run: y5j0p6w0 with config:\n",
      "\u001b[34m\u001b[1mwandb\u001b[0m: \tLR: 0.0001\n",
      "\u001b[34m\u001b[1mwandb\u001b[0m: \tsize: 0\n",
      "Failed to detect the name of this notebook, you can set it manually with the WANDB_NOTEBOOK_NAME environment variable to enable code saving.\n"
     ]
    },
    {
     "data": {
      "text/html": [
       "Tracking run with wandb version 0.19.7"
      ],
      "text/plain": [
       "<IPython.core.display.HTML object>"
      ]
     },
     "metadata": {},
     "output_type": "display_data"
    },
    {
     "data": {
      "text/html": [
       "Run data is saved locally in <code>/home/mfaykus/dissertation/segmentation/pytorch_resnet/wandb/run-20250303_121632-y5j0p6w0</code>"
      ],
      "text/plain": [
       "<IPython.core.display.HTML object>"
      ]
     },
     "metadata": {},
     "output_type": "display_data"
    },
    {
     "data": {
      "text/html": [
       "Syncing run <strong><a href='https://wandb.ai/mfaykus-clemson-university/validation_analysis/runs/y5j0p6w0' target=\"_blank\">vocal-sweep-1</a></strong> to <a href='https://wandb.ai/mfaykus-clemson-university/validation_analysis' target=\"_blank\">Weights & Biases</a> (<a href='https://wandb.me/developer-guide' target=\"_blank\">docs</a>)<br>Sweep page: <a href='https://wandb.ai/mfaykus-clemson-university/validation_analysis/sweeps/ra86aqqf' target=\"_blank\">https://wandb.ai/mfaykus-clemson-university/validation_analysis/sweeps/ra86aqqf</a>"
      ],
      "text/plain": [
       "<IPython.core.display.HTML object>"
      ]
     },
     "metadata": {},
     "output_type": "display_data"
    },
    {
     "data": {
      "text/html": [
       " View project at <a href='https://wandb.ai/mfaykus-clemson-university/validation_analysis' target=\"_blank\">https://wandb.ai/mfaykus-clemson-university/validation_analysis</a>"
      ],
      "text/plain": [
       "<IPython.core.display.HTML object>"
      ]
     },
     "metadata": {},
     "output_type": "display_data"
    },
    {
     "data": {
      "text/html": [
       " View sweep at <a href='https://wandb.ai/mfaykus-clemson-university/validation_analysis/sweeps/ra86aqqf' target=\"_blank\">https://wandb.ai/mfaykus-clemson-university/validation_analysis/sweeps/ra86aqqf</a>"
      ],
      "text/plain": [
       "<IPython.core.display.HTML object>"
      ]
     },
     "metadata": {},
     "output_type": "display_data"
    },
    {
     "data": {
      "text/html": [
       " View run at <a href='https://wandb.ai/mfaykus-clemson-university/validation_analysis/runs/y5j0p6w0' target=\"_blank\">https://wandb.ai/mfaykus-clemson-university/validation_analysis/runs/y5j0p6w0</a>"
      ],
      "text/plain": [
       "<IPython.core.display.HTML object>"
      ]
     },
     "metadata": {},
     "output_type": "display_data"
    },
    {
     "name": "stderr",
     "output_type": "stream",
     "text": [
      "Traceback (most recent call last):\n",
      "  File \"/home/mfaykus/.conda/envs/diss/lib/python3.11/site-packages/wandb/sdk/wandb_config.py\", line 165, in __getattr__\n",
      "    return self.__getitem__(key)\n",
      "           ^^^^^^^^^^^^^^^^^^^^^\n",
      "  File \"/home/mfaykus/.conda/envs/diss/lib/python3.11/site-packages/wandb/sdk/wandb_config.py\", line 130, in __getitem__\n",
      "    return self._items[key]\n",
      "           ~~~~~~~~~~~^^^^^\n",
      "KeyError: 'metric'\n",
      "\n",
      "The above exception was the direct cause of the following exception:\n",
      "\n",
      "Traceback (most recent call last):\n",
      "  File \"/local_scratch/slurm.2277855/ipykernel_44499/3376200782.py\", line 7, in validate\n",
      "    \"miou\": config.metric,\n",
      "            ^^^^^^^^^^^^^\n",
      "  File \"/home/mfaykus/.conda/envs/diss/lib/python3.11/site-packages/wandb/sdk/wandb_config.py\", line 167, in __getattr__\n",
      "    raise AttributeError(\n",
      "AttributeError: <class 'wandb.sdk.wandb_config.Config'> object has no attribute 'metric'\n"
     ]
    },
    {
     "data": {
      "text/html": [],
      "text/plain": [
       "<IPython.core.display.HTML object>"
      ]
     },
     "metadata": {},
     "output_type": "display_data"
    },
    {
     "data": {
      "text/html": [
       " View run <strong style=\"color:#cdcd00\">vocal-sweep-1</strong> at: <a href='https://wandb.ai/mfaykus-clemson-university/validation_analysis/runs/y5j0p6w0' target=\"_blank\">https://wandb.ai/mfaykus-clemson-university/validation_analysis/runs/y5j0p6w0</a><br> View project at: <a href='https://wandb.ai/mfaykus-clemson-university/validation_analysis' target=\"_blank\">https://wandb.ai/mfaykus-clemson-university/validation_analysis</a><br>Synced 5 W&B file(s), 0 media file(s), 0 artifact file(s) and 0 other file(s)"
      ],
      "text/plain": [
       "<IPython.core.display.HTML object>"
      ]
     },
     "metadata": {},
     "output_type": "display_data"
    },
    {
     "data": {
      "text/html": [
       "Find logs at: <code>./wandb/run-20250303_121632-y5j0p6w0/logs</code>"
      ],
      "text/plain": [
       "<IPython.core.display.HTML object>"
      ]
     },
     "metadata": {},
     "output_type": "display_data"
    },
    {
     "name": "stderr",
     "output_type": "stream",
     "text": [
      "Run y5j0p6w0 errored:\n",
      "Traceback (most recent call last):\n",
      "  File \"/home/mfaykus/.conda/envs/diss/lib/python3.11/site-packages/wandb/sdk/wandb_config.py\", line 165, in __getattr__\n",
      "    return self.__getitem__(key)\n",
      "           ^^^^^^^^^^^^^^^^^^^^^\n",
      "  File \"/home/mfaykus/.conda/envs/diss/lib/python3.11/site-packages/wandb/sdk/wandb_config.py\", line 130, in __getitem__\n",
      "    return self._items[key]\n",
      "           ~~~~~~~~~~~^^^^^\n",
      "KeyError: 'metric'\n",
      "\n",
      "The above exception was the direct cause of the following exception:\n",
      "\n",
      "Traceback (most recent call last):\n",
      "  File \"/home/mfaykus/.conda/envs/diss/lib/python3.11/site-packages/wandb/agents/pyagent.py\", line 306, in _run_job\n",
      "    self._function()\n",
      "  File \"/local_scratch/slurm.2277855/ipykernel_44499/3376200782.py\", line 7, in validate\n",
      "    \"miou\": config.metric,\n",
      "            ^^^^^^^^^^^^^\n",
      "  File \"/home/mfaykus/.conda/envs/diss/lib/python3.11/site-packages/wandb/sdk/wandb_config.py\", line 167, in __getattr__\n",
      "    raise AttributeError(\n",
      "AttributeError: <class 'wandb.sdk.wandb_config.Config'> object has no attribute 'metric'\n",
      "\n",
      "\u001b[34m\u001b[1mwandb\u001b[0m: \u001b[32m\u001b[41mERROR\u001b[0m Run y5j0p6w0 errored:\n",
      "\u001b[34m\u001b[1mwandb\u001b[0m: \u001b[32m\u001b[41mERROR\u001b[0m Traceback (most recent call last):\n",
      "\u001b[34m\u001b[1mwandb\u001b[0m: \u001b[32m\u001b[41mERROR\u001b[0m   File \"/home/mfaykus/.conda/envs/diss/lib/python3.11/site-packages/wandb/sdk/wandb_config.py\", line 165, in __getattr__\n",
      "\u001b[34m\u001b[1mwandb\u001b[0m: \u001b[32m\u001b[41mERROR\u001b[0m     return self.__getitem__(key)\n",
      "\u001b[34m\u001b[1mwandb\u001b[0m: \u001b[32m\u001b[41mERROR\u001b[0m            ^^^^^^^^^^^^^^^^^^^^^\n",
      "\u001b[34m\u001b[1mwandb\u001b[0m: \u001b[32m\u001b[41mERROR\u001b[0m   File \"/home/mfaykus/.conda/envs/diss/lib/python3.11/site-packages/wandb/sdk/wandb_config.py\", line 130, in __getitem__\n",
      "\u001b[34m\u001b[1mwandb\u001b[0m: \u001b[32m\u001b[41mERROR\u001b[0m     return self._items[key]\n",
      "\u001b[34m\u001b[1mwandb\u001b[0m: \u001b[32m\u001b[41mERROR\u001b[0m            ~~~~~~~~~~~^^^^^\n",
      "\u001b[34m\u001b[1mwandb\u001b[0m: \u001b[32m\u001b[41mERROR\u001b[0m KeyError: 'metric'\n",
      "\u001b[34m\u001b[1mwandb\u001b[0m: \u001b[32m\u001b[41mERROR\u001b[0m \n",
      "\u001b[34m\u001b[1mwandb\u001b[0m: \u001b[32m\u001b[41mERROR\u001b[0m The above exception was the direct cause of the following exception:\n",
      "\u001b[34m\u001b[1mwandb\u001b[0m: \u001b[32m\u001b[41mERROR\u001b[0m \n",
      "\u001b[34m\u001b[1mwandb\u001b[0m: \u001b[32m\u001b[41mERROR\u001b[0m Traceback (most recent call last):\n",
      "\u001b[34m\u001b[1mwandb\u001b[0m: \u001b[32m\u001b[41mERROR\u001b[0m   File \"/home/mfaykus/.conda/envs/diss/lib/python3.11/site-packages/wandb/agents/pyagent.py\", line 306, in _run_job\n",
      "\u001b[34m\u001b[1mwandb\u001b[0m: \u001b[32m\u001b[41mERROR\u001b[0m     self._function()\n",
      "\u001b[34m\u001b[1mwandb\u001b[0m: \u001b[32m\u001b[41mERROR\u001b[0m   File \"/local_scratch/slurm.2277855/ipykernel_44499/3376200782.py\", line 7, in validate\n",
      "\u001b[34m\u001b[1mwandb\u001b[0m: \u001b[32m\u001b[41mERROR\u001b[0m     \"miou\": config.metric,\n",
      "\u001b[34m\u001b[1mwandb\u001b[0m: \u001b[32m\u001b[41mERROR\u001b[0m             ^^^^^^^^^^^^^\n",
      "\u001b[34m\u001b[1mwandb\u001b[0m: \u001b[32m\u001b[41mERROR\u001b[0m   File \"/home/mfaykus/.conda/envs/diss/lib/python3.11/site-packages/wandb/sdk/wandb_config.py\", line 167, in __getattr__\n",
      "\u001b[34m\u001b[1mwandb\u001b[0m: \u001b[32m\u001b[41mERROR\u001b[0m     raise AttributeError(\n",
      "\u001b[34m\u001b[1mwandb\u001b[0m: \u001b[32m\u001b[41mERROR\u001b[0m AttributeError: <class 'wandb.sdk.wandb_config.Config'> object has no attribute 'metric'\n",
      "\u001b[34m\u001b[1mwandb\u001b[0m: \u001b[32m\u001b[41mERROR\u001b[0m \n",
      "\u001b[34m\u001b[1mwandb\u001b[0m: Agent Starting Run: thi8af8k with config:\n",
      "\u001b[34m\u001b[1mwandb\u001b[0m: \tLR: 0.0001\n",
      "\u001b[34m\u001b[1mwandb\u001b[0m: \tsize: 1\n",
      "Failed to detect the name of this notebook, you can set it manually with the WANDB_NOTEBOOK_NAME environment variable to enable code saving.\n"
     ]
    },
    {
     "data": {
      "text/html": [
       "Tracking run with wandb version 0.19.7"
      ],
      "text/plain": [
       "<IPython.core.display.HTML object>"
      ]
     },
     "metadata": {},
     "output_type": "display_data"
    },
    {
     "data": {
      "text/html": [
       "Run data is saved locally in <code>/home/mfaykus/dissertation/segmentation/pytorch_resnet/wandb/run-20250303_121637-thi8af8k</code>"
      ],
      "text/plain": [
       "<IPython.core.display.HTML object>"
      ]
     },
     "metadata": {},
     "output_type": "display_data"
    },
    {
     "data": {
      "text/html": [
       "Syncing run <strong><a href='https://wandb.ai/mfaykus-clemson-university/validation_analysis/runs/thi8af8k' target=\"_blank\">deft-sweep-2</a></strong> to <a href='https://wandb.ai/mfaykus-clemson-university/validation_analysis' target=\"_blank\">Weights & Biases</a> (<a href='https://wandb.me/developer-guide' target=\"_blank\">docs</a>)<br>Sweep page: <a href='https://wandb.ai/mfaykus-clemson-university/validation_analysis/sweeps/ra86aqqf' target=\"_blank\">https://wandb.ai/mfaykus-clemson-university/validation_analysis/sweeps/ra86aqqf</a>"
      ],
      "text/plain": [
       "<IPython.core.display.HTML object>"
      ]
     },
     "metadata": {},
     "output_type": "display_data"
    },
    {
     "data": {
      "text/html": [
       " View project at <a href='https://wandb.ai/mfaykus-clemson-university/validation_analysis' target=\"_blank\">https://wandb.ai/mfaykus-clemson-university/validation_analysis</a>"
      ],
      "text/plain": [
       "<IPython.core.display.HTML object>"
      ]
     },
     "metadata": {},
     "output_type": "display_data"
    },
    {
     "data": {
      "text/html": [
       " View sweep at <a href='https://wandb.ai/mfaykus-clemson-university/validation_analysis/sweeps/ra86aqqf' target=\"_blank\">https://wandb.ai/mfaykus-clemson-university/validation_analysis/sweeps/ra86aqqf</a>"
      ],
      "text/plain": [
       "<IPython.core.display.HTML object>"
      ]
     },
     "metadata": {},
     "output_type": "display_data"
    },
    {
     "data": {
      "text/html": [
       " View run at <a href='https://wandb.ai/mfaykus-clemson-university/validation_analysis/runs/thi8af8k' target=\"_blank\">https://wandb.ai/mfaykus-clemson-university/validation_analysis/runs/thi8af8k</a>"
      ],
      "text/plain": [
       "<IPython.core.display.HTML object>"
      ]
     },
     "metadata": {},
     "output_type": "display_data"
    },
    {
     "name": "stderr",
     "output_type": "stream",
     "text": [
      "Traceback (most recent call last):\n",
      "  File \"/home/mfaykus/.conda/envs/diss/lib/python3.11/site-packages/wandb/sdk/wandb_config.py\", line 165, in __getattr__\n",
      "    return self.__getitem__(key)\n",
      "           ^^^^^^^^^^^^^^^^^^^^^\n",
      "  File \"/home/mfaykus/.conda/envs/diss/lib/python3.11/site-packages/wandb/sdk/wandb_config.py\", line 130, in __getitem__\n",
      "    return self._items[key]\n",
      "           ~~~~~~~~~~~^^^^^\n",
      "KeyError: 'metric'\n",
      "\n",
      "The above exception was the direct cause of the following exception:\n",
      "\n",
      "Traceback (most recent call last):\n",
      "  File \"/local_scratch/slurm.2277855/ipykernel_44499/3376200782.py\", line 7, in validate\n",
      "    \"miou\": config.metric,\n",
      "            ^^^^^^^^^^^^^\n",
      "  File \"/home/mfaykus/.conda/envs/diss/lib/python3.11/site-packages/wandb/sdk/wandb_config.py\", line 167, in __getattr__\n",
      "    raise AttributeError(\n",
      "AttributeError: <class 'wandb.sdk.wandb_config.Config'> object has no attribute 'metric'\n"
     ]
    },
    {
     "data": {
      "text/html": [],
      "text/plain": [
       "<IPython.core.display.HTML object>"
      ]
     },
     "metadata": {},
     "output_type": "display_data"
    },
    {
     "data": {
      "text/html": [
       " View run <strong style=\"color:#cdcd00\">deft-sweep-2</strong> at: <a href='https://wandb.ai/mfaykus-clemson-university/validation_analysis/runs/thi8af8k' target=\"_blank\">https://wandb.ai/mfaykus-clemson-university/validation_analysis/runs/thi8af8k</a><br> View project at: <a href='https://wandb.ai/mfaykus-clemson-university/validation_analysis' target=\"_blank\">https://wandb.ai/mfaykus-clemson-university/validation_analysis</a><br>Synced 5 W&B file(s), 0 media file(s), 0 artifact file(s) and 0 other file(s)"
      ],
      "text/plain": [
       "<IPython.core.display.HTML object>"
      ]
     },
     "metadata": {},
     "output_type": "display_data"
    },
    {
     "data": {
      "text/html": [
       "Find logs at: <code>./wandb/run-20250303_121637-thi8af8k/logs</code>"
      ],
      "text/plain": [
       "<IPython.core.display.HTML object>"
      ]
     },
     "metadata": {},
     "output_type": "display_data"
    },
    {
     "name": "stderr",
     "output_type": "stream",
     "text": [
      "Run thi8af8k errored:\n",
      "Traceback (most recent call last):\n",
      "  File \"/home/mfaykus/.conda/envs/diss/lib/python3.11/site-packages/wandb/sdk/wandb_config.py\", line 165, in __getattr__\n",
      "    return self.__getitem__(key)\n",
      "           ^^^^^^^^^^^^^^^^^^^^^\n",
      "  File \"/home/mfaykus/.conda/envs/diss/lib/python3.11/site-packages/wandb/sdk/wandb_config.py\", line 130, in __getitem__\n",
      "    return self._items[key]\n",
      "           ~~~~~~~~~~~^^^^^\n",
      "KeyError: 'metric'\n",
      "\n",
      "The above exception was the direct cause of the following exception:\n",
      "\n",
      "Traceback (most recent call last):\n",
      "  File \"/home/mfaykus/.conda/envs/diss/lib/python3.11/site-packages/wandb/agents/pyagent.py\", line 306, in _run_job\n",
      "    self._function()\n",
      "  File \"/local_scratch/slurm.2277855/ipykernel_44499/3376200782.py\", line 7, in validate\n",
      "    \"miou\": config.metric,\n",
      "            ^^^^^^^^^^^^^\n",
      "  File \"/home/mfaykus/.conda/envs/diss/lib/python3.11/site-packages/wandb/sdk/wandb_config.py\", line 167, in __getattr__\n",
      "    raise AttributeError(\n",
      "AttributeError: <class 'wandb.sdk.wandb_config.Config'> object has no attribute 'metric'\n",
      "\n",
      "\u001b[34m\u001b[1mwandb\u001b[0m: \u001b[32m\u001b[41mERROR\u001b[0m Run thi8af8k errored:\n",
      "\u001b[34m\u001b[1mwandb\u001b[0m: \u001b[32m\u001b[41mERROR\u001b[0m Traceback (most recent call last):\n",
      "\u001b[34m\u001b[1mwandb\u001b[0m: \u001b[32m\u001b[41mERROR\u001b[0m   File \"/home/mfaykus/.conda/envs/diss/lib/python3.11/site-packages/wandb/sdk/wandb_config.py\", line 165, in __getattr__\n",
      "\u001b[34m\u001b[1mwandb\u001b[0m: \u001b[32m\u001b[41mERROR\u001b[0m     return self.__getitem__(key)\n",
      "\u001b[34m\u001b[1mwandb\u001b[0m: \u001b[32m\u001b[41mERROR\u001b[0m            ^^^^^^^^^^^^^^^^^^^^^\n",
      "\u001b[34m\u001b[1mwandb\u001b[0m: \u001b[32m\u001b[41mERROR\u001b[0m   File \"/home/mfaykus/.conda/envs/diss/lib/python3.11/site-packages/wandb/sdk/wandb_config.py\", line 130, in __getitem__\n",
      "\u001b[34m\u001b[1mwandb\u001b[0m: \u001b[32m\u001b[41mERROR\u001b[0m     return self._items[key]\n",
      "\u001b[34m\u001b[1mwandb\u001b[0m: \u001b[32m\u001b[41mERROR\u001b[0m            ~~~~~~~~~~~^^^^^\n",
      "\u001b[34m\u001b[1mwandb\u001b[0m: \u001b[32m\u001b[41mERROR\u001b[0m KeyError: 'metric'\n",
      "\u001b[34m\u001b[1mwandb\u001b[0m: \u001b[32m\u001b[41mERROR\u001b[0m \n",
      "\u001b[34m\u001b[1mwandb\u001b[0m: \u001b[32m\u001b[41mERROR\u001b[0m The above exception was the direct cause of the following exception:\n",
      "\u001b[34m\u001b[1mwandb\u001b[0m: \u001b[32m\u001b[41mERROR\u001b[0m \n",
      "\u001b[34m\u001b[1mwandb\u001b[0m: \u001b[32m\u001b[41mERROR\u001b[0m Traceback (most recent call last):\n",
      "\u001b[34m\u001b[1mwandb\u001b[0m: \u001b[32m\u001b[41mERROR\u001b[0m   File \"/home/mfaykus/.conda/envs/diss/lib/python3.11/site-packages/wandb/agents/pyagent.py\", line 306, in _run_job\n",
      "\u001b[34m\u001b[1mwandb\u001b[0m: \u001b[32m\u001b[41mERROR\u001b[0m     self._function()\n",
      "\u001b[34m\u001b[1mwandb\u001b[0m: \u001b[32m\u001b[41mERROR\u001b[0m   File \"/local_scratch/slurm.2277855/ipykernel_44499/3376200782.py\", line 7, in validate\n",
      "\u001b[34m\u001b[1mwandb\u001b[0m: \u001b[32m\u001b[41mERROR\u001b[0m     \"miou\": config.metric,\n",
      "\u001b[34m\u001b[1mwandb\u001b[0m: \u001b[32m\u001b[41mERROR\u001b[0m             ^^^^^^^^^^^^^\n",
      "\u001b[34m\u001b[1mwandb\u001b[0m: \u001b[32m\u001b[41mERROR\u001b[0m   File \"/home/mfaykus/.conda/envs/diss/lib/python3.11/site-packages/wandb/sdk/wandb_config.py\", line 167, in __getattr__\n",
      "\u001b[34m\u001b[1mwandb\u001b[0m: \u001b[32m\u001b[41mERROR\u001b[0m     raise AttributeError(\n",
      "\u001b[34m\u001b[1mwandb\u001b[0m: \u001b[32m\u001b[41mERROR\u001b[0m AttributeError: <class 'wandb.sdk.wandb_config.Config'> object has no attribute 'metric'\n",
      "\u001b[34m\u001b[1mwandb\u001b[0m: \u001b[32m\u001b[41mERROR\u001b[0m \n"
     ]
    }
   ],
   "source": [
    "sweep_id = wandb.sweep(sweep_config, project=\"validation_analysis\")  # Create a sweep\n",
    "wandb.agent(sweep_id, function=validate, count=len(df.columns))  # Run one iteration per feature\n"
   ]
  },
  {
   "cell_type": "code",
   "execution_count": null,
   "id": "613b1572-80a2-4112-a39b-0569cff360ac",
   "metadata": {},
   "outputs": [],
   "source": []
  },
  {
   "cell_type": "code",
   "execution_count": 7,
   "id": "01512da6-d6d9-4acc-a636-396137d189ca",
   "metadata": {
    "tags": []
   },
   "outputs": [],
   "source": [
    "#wandb.init(project=\"your_project_name\", name=\"miou_analysis\",settings=wandb.Settings(init_timeout=120))\n",
    "wandb.finish()"
   ]
  },
  {
   "cell_type": "code",
   "execution_count": null,
   "id": "30ff5d47-daa9-4a6f-8b8f-c69af68e7a87",
   "metadata": {},
   "outputs": [],
   "source": []
  }
 ],
 "metadata": {
  "kernelspec": {
   "display_name": "diss",
   "language": "python",
   "name": "diss"
  },
  "language_info": {
   "codemirror_mode": {
    "name": "ipython",
    "version": 3
   },
   "file_extension": ".py",
   "mimetype": "text/x-python",
   "name": "python",
   "nbconvert_exporter": "python",
   "pygments_lexer": "ipython3",
   "version": "3.11.5"
  }
 },
 "nbformat": 4,
 "nbformat_minor": 5
}
